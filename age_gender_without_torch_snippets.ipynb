{
  "cells": [
    {
      "cell_type": "code",
      "execution_count": null,
      "metadata": {},
      "outputs": [],
      "source": [
        "#Original code = \"https://github.com/PacktPublishing/Modern-Computer-Vision-with-PyTorch/blob/master/Chapter05/Implementing_VGG16_for_image_classification.ipynb\""
      ]
    },
    {
      "cell_type": "code",
      "execution_count": null,
      "metadata": {
        "id": "GO820-swkq7r"
      },
      "outputs": [],
      "source": [
        "import torch\n",
        "import numpy as np, cv2, pandas as pd, glob, time\n",
        "import matplotlib.pyplot as plt\n",
        "%matplotlib inline\n",
        "import torch\n",
        "import torch.nn as nn\n",
        "from torch import optim\n",
        "import torch.nn.functional as F\n",
        "from torch.utils.data import Dataset, DataLoader\n",
        "import torchvision\n",
        "from torchvision import transforms, models, datasets\n",
        "device = 'cuda' if torch.cuda.is_available() else 'cpu'"
      ]
    },
    {
      "cell_type": "code",
      "execution_count": null,
      "metadata": {
        "id": "bZVyS3nCku1o"
      },
      "outputs": [],
      "source": [
        "from pydrive.auth import GoogleAuth\n",
        "from pydrive.drive import GoogleDrive\n",
        "from google.colab import auth\n",
        "from oauth2client.client import GoogleCredentials\n",
        "\n",
        "auth.authenticate_user()\n",
        "gauth = GoogleAuth()\n",
        "gauth.credentials = GoogleCredentials.get_application_default()\n",
        "drive = GoogleDrive(gauth)\n",
        "\n",
        "def getFile_from_drive( file_id, name ):\n",
        "  downloaded = drive.CreateFile({'id': file_id})\n",
        "  downloaded.GetContentFile(name)\n",
        "\n",
        "getFile_from_drive('1Z1RqRo0_JiavaZw2yzZG6WETdZQ8qX86', 'fairface-img-margin025-trainval.zip')\n",
        "getFile_from_drive('1k5vvyREmHDW5TSM9QgB04Bvc8C8_7dl-', 'fairface-label-train.csv')\n",
        "getFile_from_drive('1_rtz1M1zhvS0d5vVoXUamnohB6cJ02iJ', 'fairface-label-val.csv')\n",
        "\n",
        "!unzip -qq fairface-img-margin025-trainval.zip"
      ]
    },
    {
      "cell_type": "code",
      "execution_count": null,
      "metadata": {
        "colab": {
          "base_uri": "https://localhost:8080/",
          "height": 198
        },
        "id": "NK77ld3gkyvk",
        "outputId": "fb5a9f83-6097-4773-e541-41c2a9c08492"
      },
      "outputs": [
        {
          "data": {
            "text/html": [
              "<div>\n",
              "<style scoped>\n",
              "    .dataframe tbody tr th:only-of-type {\n",
              "        vertical-align: middle;\n",
              "    }\n",
              "\n",
              "    .dataframe tbody tr th {\n",
              "        vertical-align: top;\n",
              "    }\n",
              "\n",
              "    .dataframe thead th {\n",
              "        text-align: right;\n",
              "    }\n",
              "</style>\n",
              "<table border=\"1\" class=\"dataframe\">\n",
              "  <thead>\n",
              "    <tr style=\"text-align: right;\">\n",
              "      <th></th>\n",
              "      <th>file</th>\n",
              "      <th>age</th>\n",
              "      <th>gender</th>\n",
              "      <th>race</th>\n",
              "      <th>service_test</th>\n",
              "    </tr>\n",
              "  </thead>\n",
              "  <tbody>\n",
              "    <tr>\n",
              "      <th>0</th>\n",
              "      <td>train/1.jpg</td>\n",
              "      <td>59</td>\n",
              "      <td>Male</td>\n",
              "      <td>East Asian</td>\n",
              "      <td>True</td>\n",
              "    </tr>\n",
              "    <tr>\n",
              "      <th>1</th>\n",
              "      <td>train/2.jpg</td>\n",
              "      <td>39</td>\n",
              "      <td>Female</td>\n",
              "      <td>Indian</td>\n",
              "      <td>False</td>\n",
              "    </tr>\n",
              "    <tr>\n",
              "      <th>2</th>\n",
              "      <td>train/3.jpg</td>\n",
              "      <td>11</td>\n",
              "      <td>Female</td>\n",
              "      <td>Black</td>\n",
              "      <td>False</td>\n",
              "    </tr>\n",
              "    <tr>\n",
              "      <th>3</th>\n",
              "      <td>train/4.jpg</td>\n",
              "      <td>26</td>\n",
              "      <td>Female</td>\n",
              "      <td>Indian</td>\n",
              "      <td>True</td>\n",
              "    </tr>\n",
              "    <tr>\n",
              "      <th>4</th>\n",
              "      <td>train/5.jpg</td>\n",
              "      <td>26</td>\n",
              "      <td>Female</td>\n",
              "      <td>Indian</td>\n",
              "      <td>True</td>\n",
              "    </tr>\n",
              "  </tbody>\n",
              "</table>\n",
              "</div>"
            ],
            "text/plain": [
              "          file  age  gender        race  service_test\n",
              "0  train/1.jpg   59    Male  East Asian          True\n",
              "1  train/2.jpg   39  Female      Indian         False\n",
              "2  train/3.jpg   11  Female       Black         False\n",
              "3  train/4.jpg   26  Female      Indian          True\n",
              "4  train/5.jpg   26  Female      Indian          True"
            ]
          },
          "execution_count": 3,
          "metadata": {
            "tags": []
          },
          "output_type": "execute_result"
        }
      ],
      "source": [
        "trn_df = pd.read_csv('fairface-label-train.csv')\n",
        "val_df = pd.read_csv('fairface-label-val.csv')\n",
        "trn_df.head()"
      ]
    },
    {
      "cell_type": "code",
      "execution_count": null,
      "metadata": {
        "id": "XVOL0emTljbq"
      },
      "outputs": [],
      "source": [
        "from torch.utils.data import Dataset, DataLoader\n",
        "import cv2\n",
        "IMAGE_SIZE = 224\n",
        "class GenderAgeClass(Dataset):\n",
        "    def __init__(self, df, tfms=None):\n",
        "        self.df = df\n",
        "        self.normalize = transforms.Normalize(mean=[0.485, 0.456, 0.406], \n",
        "                                              std=[0.229, 0.224, 0.225])\n",
        "    def __len__(self): return len(self.df)\n",
        "    def __getitem__(self, ix):\n",
        "        f = self.df.iloc[ix].squeeze()\n",
        "        file = f.file\n",
        "        gen = f.gender == 'Female'\n",
        "        age = f.age\n",
        "        im = cv2.imread(file)\n",
        "        im = cv2.cvtColor(im, cv2.COLOR_BGR2RGB)\n",
        "        return im, age, gen\n",
        "\n",
        "    def preprocess_image(self, im):\n",
        "        im = cv2.resize(im, (IMAGE_SIZE, IMAGE_SIZE))\n",
        "        im = torch.tensor(im).permute(2,0,1)\n",
        "        im = self.normalize(im/255.)\n",
        "        return im[None]\n",
        "\n",
        "    def collate_fn(self, batch):\n",
        "        'preprocess images, ages and genders'\n",
        "        ims, ages, genders = [], [], []\n",
        "        for im, age, gender in batch:\n",
        "            im = self.preprocess_image(im)\n",
        "            ims.append(im)\n",
        "\n",
        "            ages.append(float(int(age)/80))\n",
        "            genders.append(float(gender))\n",
        "\n",
        "        ages, genders = [torch.tensor(x).to(device).float() for x in [ages, genders]]\n",
        "        ims = torch.cat(ims).to(device)\n",
        "\n",
        "        return ims, ages, genders"
      ]
    },
    {
      "cell_type": "code",
      "execution_count": null,
      "metadata": {
        "id": "cfQ7WlW1mO8c"
      },
      "outputs": [],
      "source": [
        "trn = GenderAgeClass(trn_df)\n",
        "val = GenderAgeClass(val_df)"
      ]
    },
    {
      "cell_type": "code",
      "execution_count": null,
      "metadata": {
        "colab": {
          "base_uri": "https://localhost:8080/"
        },
        "id": "eJEiuBhlnPd-",
        "outputId": "fd1dd131-c563-4d02-af65-819886175782"
      },
      "outputs": [
        {
          "name": "stdout",
          "output_type": "stream",
          "text": [
            "torch.Size([32, 3, 224, 224]) torch.Size([32]) torch.Size([32])\n"
          ]
        }
      ],
      "source": [
        "device='cuda'\n",
        "train_loader = DataLoader(trn, batch_size=32, shuffle=True, drop_last=True, collate_fn=trn.collate_fn)\n",
        "test_loader = DataLoader(val, batch_size=32, collate_fn=val.collate_fn)\n",
        "a,b,c, = next(iter(train_loader))\n",
        "print(a.shape, b.shape, c.shape)"
      ]
    },
    {
      "cell_type": "code",
      "execution_count": null,
      "metadata": {
        "colab": {
          "base_uri": "https://localhost:8080/",
          "height": 84,
          "referenced_widgets": [
            "a247b4c6ac9d44ab8e4c82ccfa9d8b05",
            "e0597664297e4074aafb1abc74462c54",
            "7a01294a511e42b394dd62f2af3f3014",
            "c029002323f34a74a873b4175906a3ea",
            "e6a7f4bb399f42969d624bc55fcb81e4",
            "169be448255e45e4b69f47740b1fc4e9",
            "2e780ce258ee4277b0d7e3fc99fef48e",
            "da9aacf457e948a9a406b0e5f7028bb0"
          ]
        },
        "id": "nvj3Nb6_ngim",
        "outputId": "e4eab945-a346-4b24-9251-24abeecb96f6"
      },
      "outputs": [
        {
          "name": "stderr",
          "output_type": "stream",
          "text": [
            "Downloading: \"https://download.pytorch.org/models/vgg16-397923af.pth\" to /root/.cache/torch/hub/checkpoints/vgg16-397923af.pth\n"
          ]
        },
        {
          "data": {
            "application/vnd.jupyter.widget-view+json": {
              "model_id": "a247b4c6ac9d44ab8e4c82ccfa9d8b05",
              "version_major": 2,
              "version_minor": 0
            },
            "text/plain": [
              "HBox(children=(FloatProgress(value=0.0, max=553433881.0), HTML(value='')))"
            ]
          },
          "metadata": {
            "tags": []
          },
          "output_type": "display_data"
        },
        {
          "name": "stdout",
          "output_type": "stream",
          "text": [
            "\n"
          ]
        }
      ],
      "source": [
        "def get_model():\n",
        "    model = models.vgg16(pretrained = True)\n",
        "    # Freeze parameters so we don't backprop through them\n",
        "    for param in model.parameters():\n",
        "        param.requires_grad = False\n",
        "    model.avgpool = nn.Sequential(\n",
        "        nn.Conv2d(512,512, kernel_size=3),\n",
        "        nn.MaxPool2d(2),\n",
        "        nn.ReLU(),\n",
        "        nn.Flatten()\n",
        "    )\n",
        "    class ageGenderClassifier(nn.Module):\n",
        "        def __init__(self):\n",
        "            super(ageGenderClassifier, self).__init__()\n",
        "            self.intermediate = nn.Sequential(\n",
        "                nn.Linear(2048,512),\n",
        "                nn.ReLU(),\n",
        "                nn.Dropout(0.4),\n",
        "                nn.Linear(512,128),\n",
        "                nn.ReLU(),\n",
        "                nn.Dropout(0.4),\n",
        "                nn.Linear(128,64),\n",
        "                nn.ReLU(),\n",
        "            )\n",
        "            self.age_classifier = nn.Sequential(\n",
        "                nn.Linear(64, 1),\n",
        "                nn.Sigmoid()\n",
        "            )\n",
        "            self.gender_classifier = nn.Sequential(\n",
        "                nn.Linear(64, 1),\n",
        "                nn.Sigmoid()\n",
        "            )\n",
        "        def forward(self, x):\n",
        "            x = self.intermediate(x)\n",
        "            age = self.age_classifier(x)\n",
        "            gender = self.gender_classifier(x)\n",
        "            return gender, age\n",
        "        \n",
        "    model.classifier = ageGenderClassifier()\n",
        "    \n",
        "    gender_criterion = nn.BCELoss()\n",
        "    age_criterion = nn.L1Loss()\n",
        "    loss_functions = gender_criterion, age_criterion\n",
        "    optimizer = torch.optim.Adam(model.parameters(), lr= 1e-4)\n",
        "    \n",
        "    return model.to(device), loss_functions, optimizer\n",
        "\n",
        "model, loss_functions, optimizer = get_model()"
      ]
    },
    {
      "cell_type": "code",
      "execution_count": null,
      "metadata": {
        "colab": {
          "base_uri": "https://localhost:8080/"
        },
        "id": "XceUr1tWoJEL",
        "outputId": "777581fd-661e-4b5a-f024-3e35d5d29a22"
      },
      "outputs": [
        {
          "name": "stdout",
          "output_type": "stream",
          "text": [
            "Requirement already satisfied: torchsummary in /usr/local/lib/python3.6/dist-packages (1.5.1)\n",
            "----------------------------------------------------------------\n",
            "        Layer (type)               Output Shape         Param #\n",
            "================================================================\n",
            "            Conv2d-1         [-1, 64, 224, 224]           1,792\n",
            "              ReLU-2         [-1, 64, 224, 224]               0\n",
            "            Conv2d-3         [-1, 64, 224, 224]          36,928\n",
            "              ReLU-4         [-1, 64, 224, 224]               0\n",
            "         MaxPool2d-5         [-1, 64, 112, 112]               0\n",
            "            Conv2d-6        [-1, 128, 112, 112]          73,856\n",
            "              ReLU-7        [-1, 128, 112, 112]               0\n",
            "            Conv2d-8        [-1, 128, 112, 112]         147,584\n",
            "              ReLU-9        [-1, 128, 112, 112]               0\n",
            "        MaxPool2d-10          [-1, 128, 56, 56]               0\n",
            "           Conv2d-11          [-1, 256, 56, 56]         295,168\n",
            "             ReLU-12          [-1, 256, 56, 56]               0\n",
            "           Conv2d-13          [-1, 256, 56, 56]         590,080\n",
            "             ReLU-14          [-1, 256, 56, 56]               0\n",
            "           Conv2d-15          [-1, 256, 56, 56]         590,080\n",
            "             ReLU-16          [-1, 256, 56, 56]               0\n",
            "        MaxPool2d-17          [-1, 256, 28, 28]               0\n",
            "           Conv2d-18          [-1, 512, 28, 28]       1,180,160\n",
            "             ReLU-19          [-1, 512, 28, 28]               0\n",
            "           Conv2d-20          [-1, 512, 28, 28]       2,359,808\n",
            "             ReLU-21          [-1, 512, 28, 28]               0\n",
            "           Conv2d-22          [-1, 512, 28, 28]       2,359,808\n",
            "             ReLU-23          [-1, 512, 28, 28]               0\n",
            "        MaxPool2d-24          [-1, 512, 14, 14]               0\n",
            "           Conv2d-25          [-1, 512, 14, 14]       2,359,808\n",
            "             ReLU-26          [-1, 512, 14, 14]               0\n",
            "           Conv2d-27          [-1, 512, 14, 14]       2,359,808\n",
            "             ReLU-28          [-1, 512, 14, 14]               0\n",
            "           Conv2d-29          [-1, 512, 14, 14]       2,359,808\n",
            "             ReLU-30          [-1, 512, 14, 14]               0\n",
            "        MaxPool2d-31            [-1, 512, 7, 7]               0\n",
            "           Conv2d-32            [-1, 512, 5, 5]       2,359,808\n",
            "        MaxPool2d-33            [-1, 512, 2, 2]               0\n",
            "             ReLU-34            [-1, 512, 2, 2]               0\n",
            "          Flatten-35                 [-1, 2048]               0\n",
            "           Linear-36                  [-1, 512]       1,049,088\n",
            "             ReLU-37                  [-1, 512]               0\n",
            "          Dropout-38                  [-1, 512]               0\n",
            "           Linear-39                  [-1, 128]          65,664\n",
            "             ReLU-40                  [-1, 128]               0\n",
            "          Dropout-41                  [-1, 128]               0\n",
            "           Linear-42                   [-1, 64]           8,256\n",
            "             ReLU-43                   [-1, 64]               0\n",
            "           Linear-44                    [-1, 1]              65\n",
            "          Sigmoid-45                    [-1, 1]               0\n",
            "           Linear-46                    [-1, 1]              65\n",
            "          Sigmoid-47                    [-1, 1]               0\n",
            "ageGenderClassifier-48         [[-1, 1], [-1, 1]]               0\n",
            "================================================================\n",
            "Total params: 18,197,634\n",
            "Trainable params: 3,482,946\n",
            "Non-trainable params: 14,714,688\n",
            "----------------------------------------------------------------\n",
            "Input size (MB): 0.57\n",
            "Forward/backward pass size (MB): 218.55\n",
            "Params size (MB): 69.42\n",
            "Estimated Total Size (MB): 288.55\n",
            "----------------------------------------------------------------\n"
          ]
        }
      ],
      "source": [
        "!pip install torchsummary\n",
        "from torchsummary import summary\n",
        "summary(model, input_size=(3,224,224), device=device)"
      ]
    },
    {
      "cell_type": "code",
      "execution_count": null,
      "metadata": {
        "id": "aJoiV7T2oMRc"
      },
      "outputs": [],
      "source": [
        "def train_batch(data, model, optimizer, criteria):\n",
        "    model.train()\n",
        "    ims, age, gender = data\n",
        "    optimizer.zero_grad()\n",
        "    pred_gender, pred_age = model(ims)    \n",
        "    gender_criterion, age_criterion = criteria\n",
        "    gender_loss = gender_criterion(pred_gender.squeeze(), gender)\n",
        "    age_loss = age_criterion(pred_age.squeeze(), age)\n",
        "    total_loss = gender_loss + age_loss\n",
        "    total_loss.backward()\n",
        "    optimizer.step()\n",
        "    return total_loss\n",
        "\n",
        "def validate_batch(data, model, criteria):\n",
        "    model.eval()\n",
        "    ims, age, gender = data\n",
        "    with torch.no_grad():\n",
        "      pred_gender, pred_age = model(ims)\n",
        "    gender_criterion, age_criterion = criteria\n",
        "    gender_loss = gender_criterion(pred_gender.squeeze(), gender)\n",
        "    age_loss = age_criterion(pred_age.squeeze(), age)\n",
        "    total_loss = gender_loss + age_loss\n",
        "    pred_gender = (pred_gender > 0.5).squeeze()\n",
        "    gender_acc = (pred_gender == gender).float().sum()\n",
        "    age_mae = torch.abs(age - pred_age).float().sum()\n",
        "    return total_loss, gender_acc, age_mae"
      ]
    },
    {
      "cell_type": "code",
      "execution_count": null,
      "metadata": {
        "colab": {
          "base_uri": "https://localhost:8080/"
        },
        "id": "uhbO3pA0oTuc",
        "outputId": "e67a2fa1-5939-4ce6-8651-c0d83c65cda0"
      },
      "outputs": [
        {
          "name": "stdout",
          "output_type": "stream",
          "text": [
            "1/5 (844.58s - 4222.92s remaining)\n",
            "Epoch: 001\tTrain Loss: 0.548\tTest: 0.469\tBest Test Loss: 0.4695\n",
            "Gender Accuracy: 83.54%\tAge MAE: 6.34\n",
            "\n",
            "2/5 (1682.39s - 3364.79s remaining)\n",
            "Epoch: 002\tTrain Loss: 0.400\tTest: 0.440\tBest Test Loss: 0.4399\n",
            "Gender Accuracy: 84.88%\tAge MAE: 6.23\n",
            "\n",
            "3/5 (2526.27s - 2526.27s remaining)\n",
            "Epoch: 003\tTrain Loss: 0.286\tTest: 0.494\tBest Test Loss: 0.4399\n",
            "Gender Accuracy: 84.67%\tAge MAE: 6.27\n",
            "\n",
            "4/5 (3370.63s - 1685.32s remaining)\n",
            "Epoch: 004\tTrain Loss: 0.199\tTest: 0.613\tBest Test Loss: 0.4399\n",
            "Gender Accuracy: 83.80%\tAge MAE: 6.41\n",
            "\n",
            "5/5 (4208.70s - 841.74s remaining)\n",
            "Epoch: 005\tTrain Loss: 0.159\tTest: 0.710\tBest Test Loss: 0.4399\n",
            "Gender Accuracy: 83.30%\tAge MAE: 6.29\n",
            "\n"
          ]
        }
      ],
      "source": [
        "model, criteria, optimizer = get_model()\n",
        "val_gender_accuracies = []\n",
        "val_age_maes = []\n",
        "train_losses = []\n",
        "val_losses = []\n",
        "\n",
        "n_epochs = 5\n",
        "best_test_loss = 1000\n",
        "start = time.time()\n",
        "\n",
        "for epoch in range(n_epochs):\n",
        "    epoch_train_loss, epoch_test_loss = 0, 0\n",
        "    val_age_mae, val_gender_acc, ctr = 0, 0, 0\n",
        "    _n = len(train_loader)\n",
        "    for ix, data in enumerate(train_loader):\n",
        "        # if ix == 100: break\n",
        "        loss = train_batch(data, model, optimizer, criteria)\n",
        "        epoch_train_loss += loss.item()\n",
        "\n",
        "    for ix, data in enumerate(test_loader):\n",
        "        # if ix == 10: break\n",
        "        loss, gender_acc, age_mae = validate_batch(data, model, criteria)\n",
        "        epoch_test_loss += loss.item()\n",
        "        val_age_mae += age_mae\n",
        "        val_gender_acc += gender_acc\n",
        "        ctr += len(data[0])\n",
        "\n",
        "    val_age_mae /= ctr\n",
        "    val_gender_acc /= ctr\n",
        "    epoch_train_loss /= len(train_loader)\n",
        "    epoch_test_loss /= len(test_loader)\n",
        "\n",
        "    elapsed = time.time()-start\n",
        "    best_test_loss = min(best_test_loss, epoch_test_loss)\n",
        "    print('{}/{} ({:.2f}s - {:.2f}s remaining)'.format(epoch+1, n_epochs, time.time()-start, (n_epochs-epoch)*(elapsed/(epoch+1))))\n",
        "    info = f'''Epoch: {epoch+1:03d}\\tTrain Loss: {epoch_train_loss:.3f}\\tTest: {epoch_test_loss:.3f}\\tBest Test Loss: {best_test_loss:.4f}'''\n",
        "    info += f'\\nGender Accuracy: {val_gender_acc*100:.2f}%\\tAge MAE: {val_age_mae:.2f}\\n'\n",
        "    print(info)\n",
        "\n",
        "    val_gender_accuracies.append(val_gender_acc)\n",
        "    val_age_maes.append(val_age_mae)"
      ]
    },
    {
      "cell_type": "code",
      "execution_count": null,
      "metadata": {
        "colab": {
          "base_uri": "https://localhost:8080/",
          "height": 350
        },
        "id": "akzO0Z3Br2GP",
        "outputId": "557b3b50-82c3-42df-dacf-2ee4f54c34c9"
      },
      "outputs": [
        {
          "data": {
            "image/png": "[encoded data removed]",
            "text/plain": [
              "<Figure size 720x360 with 2 Axes>"
            ]
          },
          "metadata": {
            "needs_background": "light",
            "tags": []
          },
          "output_type": "display_data"
        }
      ],
      "source": [
        "epochs = np.arange(1,len(val_gender_accuracies)+1)\n",
        "fig,ax = plt.subplots(1,2,figsize=(10,5))\n",
        "ax = ax.flat\n",
        "ax[0].plot(epochs, val_gender_accuracies, 'bo')\n",
        "ax[1].plot(epochs, val_age_maes, 'r')\n",
        "ax[0].set_xlabel('Epochs')\n",
        "ax[1].set_xlabel('Epochs')\n",
        "ax[0].set_ylabel('Accuracy')\n",
        "ax[1].set_ylabel('MAE')\n",
        "ax[0].set_title('Validation Gender Accuracy')\n",
        "ax[0].set_title('Validation Age Mean-Absolute-Error')\n",
        "plt.show()\n"
      ]
    },
    {
      "cell_type": "code",
      "execution_count": null,
      "metadata": {
        "id": "kst7Qp5lwlhJ"
      },
      "outputs": [],
      "source": []
    }
  ],
  "metadata": {
    "accelerator": "GPU",
    "colab": {
      "name": "age-gender-without-torch-snippets",
      "provenance": []
    },
    "kernelspec": {
      "display_name": "pytorch",
      "language": "python",
      "name": "python3"
    },
    "language_info": {
      "name": "python",
      "version": "3.9.12 (main, Jun  1 2022, 06:36:29) \n[Clang 12.0.0 ]"
    },
    "vscode": {
      "interpreter": {
        "hash": "f5b916051ec391ef3c1c0123575e59cad2c35863d294dd079abc5845c0e5babb"
      }
    },
    "widgets": {
      "application/vnd.jupyter.widget-state+json": {
        "169be448255e45e4b69f47740b1fc4e9": {
          "model_module": "@jupyter-widgets/base",
          "model_module_version": "1.2.0",
          "model_name": "LayoutModel",
          "state": {
            "_model_module": "@jupyter-widgets/base",
            "_model_module_version": "1.2.0",
            "_model_name": "LayoutModel",
            "_view_count": null,
            "_view_module": "@jupyter-widgets/base",
            "_view_module_version": "1.2.0",
            "_view_name": "LayoutView",
            "align_content": null,
            "align_items": null,
            "align_self": null,
            "border": null,
            "bottom": null,
            "display": null,
            "flex": null,
            "flex_flow": null,
            "grid_area": null,
            "grid_auto_columns": null,
            "grid_auto_flow": null,
            "grid_auto_rows": null,
            "grid_column": null,
            "grid_gap": null,
            "grid_row": null,
            "grid_template_areas": null,
            "grid_template_columns": null,
            "grid_template_rows": null,
            "height": null,
            "justify_content": null,
            "justify_items": null,
            "left": null,
            "margin": null,
            "max_height": null,
            "max_width": null,
            "min_height": null,
            "min_width": null,
            "object_fit": null,
            "object_position": null,
            "order": null,
            "overflow": null,
            "overflow_x": null,
            "overflow_y": null,
            "padding": null,
            "right": null,
            "top": null,
            "visibility": null,
            "width": null
          }
        },
        "2e780ce258ee4277b0d7e3fc99fef48e": {
          "model_module": "@jupyter-widgets/controls",
          "model_module_version": "1.5.0",
          "model_name": "DescriptionStyleModel",
          "state": {
            "_model_module": "@jupyter-widgets/controls",
            "_model_module_version": "1.5.0",
            "_model_name": "DescriptionStyleModel",
            "_view_count": null,
            "_view_module": "@jupyter-widgets/base",
            "_view_module_version": "1.2.0",
            "_view_name": "StyleView",
            "description_width": ""
          }
        },
        "7a01294a511e42b394dd62f2af3f3014": {
          "model_module": "@jupyter-widgets/controls",
          "model_module_version": "1.5.0",
          "model_name": "FloatProgressModel",
          "state": {
            "_dom_classes": [],
            "_model_module": "@jupyter-widgets/controls",
            "_model_module_version": "1.5.0",
            "_model_name": "FloatProgressModel",
            "_view_count": null,
            "_view_module": "@jupyter-widgets/controls",
            "_view_module_version": "1.5.0",
            "_view_name": "ProgressView",
            "bar_style": "success",
            "description": "100%",
            "description_tooltip": null,
            "layout": "IPY_MODEL_169be448255e45e4b69f47740b1fc4e9",
            "max": 553433881,
            "min": 0,
            "orientation": "horizontal",
            "style": "IPY_MODEL_e6a7f4bb399f42969d624bc55fcb81e4",
            "value": 553433881
          }
        },
        "a247b4c6ac9d44ab8e4c82ccfa9d8b05": {
          "model_module": "@jupyter-widgets/controls",
          "model_module_version": "1.5.0",
          "model_name": "HBoxModel",
          "state": {
            "_dom_classes": [],
            "_model_module": "@jupyter-widgets/controls",
            "_model_module_version": "1.5.0",
            "_model_name": "HBoxModel",
            "_view_count": null,
            "_view_module": "@jupyter-widgets/controls",
            "_view_module_version": "1.5.0",
            "_view_name": "HBoxView",
            "box_style": "",
            "children": [
              "IPY_MODEL_7a01294a511e42b394dd62f2af3f3014",
              "IPY_MODEL_c029002323f34a74a873b4175906a3ea"
            ],
            "layout": "IPY_MODEL_e0597664297e4074aafb1abc74462c54"
          }
        },
        "c029002323f34a74a873b4175906a3ea": {
          "model_module": "@jupyter-widgets/controls",
          "model_module_version": "1.5.0",
          "model_name": "HTMLModel",
          "state": {
            "_dom_classes": [],
            "_model_module": "@jupyter-widgets/controls",
            "_model_module_version": "1.5.0",
            "_model_name": "HTMLModel",
            "_view_count": null,
            "_view_module": "@jupyter-widgets/controls",
            "_view_module_version": "1.5.0",
            "_view_name": "HTMLView",
            "description": "",
            "description_tooltip": null,
            "layout": "IPY_MODEL_da9aacf457e948a9a406b0e5f7028bb0",
            "placeholder": "​",
            "style": "IPY_MODEL_2e780ce258ee4277b0d7e3fc99fef48e",
            "value": " 528M/528M [00:17&lt;00:00, 31.1MB/s]"
          }
        },
        "da9aacf457e948a9a406b0e5f7028bb0": {
          "model_module": "@jupyter-widgets/base",
          "model_module_version": "1.2.0",
          "model_name": "LayoutModel",
          "state": {
            "_model_module": "@jupyter-widgets/base",
            "_model_module_version": "1.2.0",
            "_model_name": "LayoutModel",
            "_view_count": null,
            "_view_module": "@jupyter-widgets/base",
            "_view_module_version": "1.2.0",
            "_view_name": "LayoutView",
            "align_content": null,
            "align_items": null,
            "align_self": null,
            "border": null,
            "bottom": null,
            "display": null,
            "flex": null,
            "flex_flow": null,
            "grid_area": null,
            "grid_auto_columns": null,
            "grid_auto_flow": null,
            "grid_auto_rows": null,
            "grid_column": null,
            "grid_gap": null,
            "grid_row": null,
            "grid_template_areas": null,
            "grid_template_columns": null,
            "grid_template_rows": null,
            "height": null,
            "justify_content": null,
            "justify_items": null,
            "left": null,
            "margin": null,
            "max_height": null,
            "max_width": null,
            "min_height": null,
            "min_width": null,
            "object_fit": null,
            "object_position": null,
            "order": null,
            "overflow": null,
            "overflow_x": null,
            "overflow_y": null,
            "padding": null,
            "right": null,
            "top": null,
            "visibility": null,
            "width": null
          }
        },
        "e0597664297e4074aafb1abc74462c54": {
          "model_module": "@jupyter-widgets/base",
          "model_module_version": "1.2.0",
          "model_name": "LayoutModel",
          "state": {
            "_model_module": "@jupyter-widgets/base",
            "_model_module_version": "1.2.0",
            "_model_name": "LayoutModel",
            "_view_count": null,
            "_view_module": "@jupyter-widgets/base",
            "_view_module_version": "1.2.0",
            "_view_name": "LayoutView",
            "align_content": null,
            "align_items": null,
            "align_self": null,
            "border": null,
            "bottom": null,
            "display": null,
            "flex": null,
            "flex_flow": null,
            "grid_area": null,
            "grid_auto_columns": null,
            "grid_auto_flow": null,
            "grid_auto_rows": null,
            "grid_column": null,
            "grid_gap": null,
            "grid_row": null,
            "grid_template_areas": null,
            "grid_template_columns": null,
            "grid_template_rows": null,
            "height": null,
            "justify_content": null,
            "justify_items": null,
            "left": null,
            "margin": null,
            "max_height": null,
            "max_width": null,
            "min_height": null,
            "min_width": null,
            "object_fit": null,
            "object_position": null,
            "order": null,
            "overflow": null,
            "overflow_x": null,
            "overflow_y": null,
            "padding": null,
            "right": null,
            "top": null,
            "visibility": null,
            "width": null
          }
        },
        "e6a7f4bb399f42969d624bc55fcb81e4": {
          "model_module": "@jupyter-widgets/controls",
          "model_module_version": "1.5.0",
          "model_name": "ProgressStyleModel",
          "state": {
            "_model_module": "@jupyter-widgets/controls",
            "_model_module_version": "1.5.0",
            "_model_name": "ProgressStyleModel",
            "_view_count": null,
            "_view_module": "@jupyter-widgets/base",
            "_view_module_version": "1.2.0",
            "_view_name": "StyleView",
            "bar_color": null,
            "description_width": "initial"
          }
        }
      }
    }
  },
  "nbformat": 4,
  "nbformat_minor": 0
}
